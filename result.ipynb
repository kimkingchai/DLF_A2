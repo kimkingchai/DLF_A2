{
 "cells": [
  {
   "cell_type": "code",
   "execution_count": 1,
   "metadata": {},
   "outputs": [],
   "source": [
    "import pandas as pd\n",
    "from glob import glob"
   ]
  },
  {
   "cell_type": "code",
   "execution_count": 2,
   "metadata": {},
   "outputs": [],
   "source": [
    "files = glob(\"*.csv\")\n",
    "res_df = pd.DataFrame()\n",
    "for i in files:\n",
    "    model_name = i.split(\".\")[0]\n",
    "    df= pd.read_csv(i)\n",
    "    val_min = df[\"valid_loss\"].min()\n",
    "    metrics = df[[\"accuracy\",\"precision_score\",\"recall_score\",\"f1_score\"]].max().to_list()\n",
    "    val_min\n",
    "    metrics.insert(0,val_min)\n",
    "    res_df[model_name]=metrics\n"
   ]
  },
  {
   "cell_type": "code",
   "execution_count": 3,
   "metadata": {},
   "outputs": [],
   "source": [
    "res_df = res_df.T\n",
    "res_df=res_df.rename(columns ={0:\"valid_loss\",1:\"accuracy\",2:\"precision_score\",3:\"recall_score\",4:\"f1_score\"})"
   ]
  },
  {
   "cell_type": "code",
   "execution_count": 4,
   "metadata": {},
   "outputs": [
    {
     "data": {
      "text/html": [
       "<div>\n",
       "<style scoped>\n",
       "    .dataframe tbody tr th:only-of-type {\n",
       "        vertical-align: middle;\n",
       "    }\n",
       "\n",
       "    .dataframe tbody tr th {\n",
       "        vertical-align: top;\n",
       "    }\n",
       "\n",
       "    .dataframe thead th {\n",
       "        text-align: right;\n",
       "    }\n",
       "</style>\n",
       "<table border=\"1\" class=\"dataframe\">\n",
       "  <thead>\n",
       "    <tr style=\"text-align: right;\">\n",
       "      <th></th>\n",
       "      <th>valid_loss</th>\n",
       "      <th>accuracy</th>\n",
       "      <th>precision_score</th>\n",
       "      <th>recall_score</th>\n",
       "      <th>f1_score</th>\n",
       "    </tr>\n",
       "  </thead>\n",
       "  <tbody>\n",
       "    <tr>\n",
       "      <th>vgg16</th>\n",
       "      <td>0.455204</td>\n",
       "      <td>0.866923</td>\n",
       "      <td>0.873191</td>\n",
       "      <td>0.871004</td>\n",
       "      <td>0.867833</td>\n",
       "    </tr>\n",
       "    <tr>\n",
       "      <th>resnet34</th>\n",
       "      <td>0.428364</td>\n",
       "      <td>0.886154</td>\n",
       "      <td>0.890142</td>\n",
       "      <td>0.889651</td>\n",
       "      <td>0.886854</td>\n",
       "    </tr>\n",
       "    <tr>\n",
       "      <th>vit_base_patch16_224</th>\n",
       "      <td>0.291331</td>\n",
       "      <td>0.950769</td>\n",
       "      <td>0.953379</td>\n",
       "      <td>0.955268</td>\n",
       "      <td>0.952805</td>\n",
       "    </tr>\n",
       "    <tr>\n",
       "      <th>resnet50</th>\n",
       "      <td>0.312735</td>\n",
       "      <td>0.929231</td>\n",
       "      <td>0.933959</td>\n",
       "      <td>0.931140</td>\n",
       "      <td>0.930841</td>\n",
       "    </tr>\n",
       "    <tr>\n",
       "      <th>efficientnet_b0</th>\n",
       "      <td>0.308324</td>\n",
       "      <td>0.921538</td>\n",
       "      <td>0.927770</td>\n",
       "      <td>0.925161</td>\n",
       "      <td>0.924672</td>\n",
       "    </tr>\n",
       "  </tbody>\n",
       "</table>\n",
       "</div>"
      ],
      "text/plain": [
       "                      valid_loss  accuracy  precision_score  recall_score  \\\n",
       "vgg16                   0.455204  0.866923         0.873191      0.871004   \n",
       "resnet34                0.428364  0.886154         0.890142      0.889651   \n",
       "vit_base_patch16_224    0.291331  0.950769         0.953379      0.955268   \n",
       "resnet50                0.312735  0.929231         0.933959      0.931140   \n",
       "efficientnet_b0         0.308324  0.921538         0.927770      0.925161   \n",
       "\n",
       "                      f1_score  \n",
       "vgg16                 0.867833  \n",
       "resnet34              0.886854  \n",
       "vit_base_patch16_224  0.952805  \n",
       "resnet50              0.930841  \n",
       "efficientnet_b0       0.924672  "
      ]
     },
     "execution_count": 4,
     "metadata": {},
     "output_type": "execute_result"
    }
   ],
   "source": [
    "res_df.head()"
   ]
  },
  {
   "cell_type": "code",
   "execution_count": 5,
   "metadata": {},
   "outputs": [],
   "source": [
    "res_df.to_latex(\"res.tex\")"
   ]
  }
 ],
 "metadata": {
  "kernelspec": {
   "display_name": "torch",
   "language": "python",
   "name": "python3"
  },
  "language_info": {
   "codemirror_mode": {
    "name": "ipython",
    "version": 3
   },
   "file_extension": ".py",
   "mimetype": "text/x-python",
   "name": "python",
   "nbconvert_exporter": "python",
   "pygments_lexer": "ipython3",
   "version": "3.10.13"
  }
 },
 "nbformat": 4,
 "nbformat_minor": 2
}
